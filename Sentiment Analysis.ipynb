{
 "cells": [
  {
   "cell_type": "code",
   "execution_count": 17,
   "metadata": {},
   "outputs": [],
   "source": [
    "# from sklearn.model_selection import train_test_split\n",
    "# from sklearn.preprocessing import StandardScaler,OneHotEncoder\n",
    "import pandas as pd\n",
    "# import tensorflow as tf\n",
    "# For Linear regression model\n",
    "# from sklearn.linear_model import LinearRegression\n",
    "# from sklearn.metrics import mean_squared_error\n",
    "# For plotting\n",
    "# import matplotlib.pyplot as plt\n",
    "import os\n",
    "import tweepy as tw\n",
    "from config import *\n",
    "import pytrends"
   ]
  },
  {
   "cell_type": "code",
   "execution_count": 18,
   "metadata": {},
   "outputs": [],
   "source": [
    "auth = tw.OAuthHandler(consumer_key, consumer_secret)\n",
    "auth.set_access_token(access_token, access_token_secret)\n",
    "api = tw.API(auth, wait_on_rate_limit=True)"
   ]
  },
  {
   "cell_type": "code",
   "execution_count": 19,
   "metadata": {},
   "outputs": [],
   "source": [
    "search_words = \"#tesla\"\n",
    "date_since = \"2021-07-02\"\n"
   ]
  },
  {
   "cell_type": "code",
   "execution_count": 20,
   "metadata": {},
   "outputs": [
    {
     "name": "stdout",
     "output_type": "stream",
     "text": [
      "Tesla preparing EV models with 4680 batteries #tesla #teslati #gordon #tslafanmtl #james #sawyermerritt #vincent https://t.co/FC5yAeq7oP\n",
      "RT @medbed_d: @Dragon007Aspie @YouTube FYI I ordered A #Tesla medbed generator June 21st after using 4 #Biohealers for 3 weeks! Could not w…\n",
      "$TSLA #TSLA #tesla #10 trending on reddit the last 72hrs - we'll see how the rest of the week plays out. Check out… https://t.co/n8bnHZsruc\n",
      "RT @Investingcom: 🚨 #Musk tells SolarCity trial that #Tesla would 'die' if he wasn't CEO! 👀\n",
      "\n",
      "Read NOW! 👉 https://t.co/vxSyoIQd6I https://t.…\n",
      "@elonmusk These cryptic tweets are starting to “drive” me nuts! Just say it already!!! #Tesla will have #GameStop… https://t.co/SXNkYoB1Y6\n",
      "RT @TheDogeOfSwabia: Waiting for Elon and #Tesla ⚡️to accept #Dogecoin be like:\n",
      "$DOGE https://t.co/YDrd7I2iBp\n",
      "Celebrating Nikola Tesla's 165th birthdays through tales of his accomplishments.\n",
      "#NikolaTesla   #Tesla   #STEM \n",
      "\n",
      "https://t.co/YzxjpVwF4J\n",
      "give me a tesla God elon I need it to make uber regalame un tesla no necesito para hacer uber @elonmusk @Tesla 🥲… https://t.co/gZgGrFgKC5\n",
      "#Samsung and #Tesla signed a half-a-billion-dollar deal for #Cybertruck cameras. Samsung’s camera modules will be u… https://t.co/fL9vh5ezZU\n",
      "@elonmusk @CGDaveMac #Tesla car can be used to mine #Dogecoin, just sayin’\n",
      "On Tesla's website, the models are arranged as S3XY.\n",
      "Am I late to the party?\n",
      "\n",
      "All I was looking for was a cute tiny… https://t.co/SF8zx7D3oG\n",
      "RT @kimpaquette: OUR CARS CAN HEAR?! #tesla\n",
      "RT @TheDogeOfSwabia: Waiting for Elon and #Tesla ⚡️to accept #Dogecoin be like:\n",
      "$DOGE https://t.co/YDrd7I2iBp\n",
      "Haven't tried this yet. Will do when I get on road tomorrow. Let's see if it works through #Tesla bluetooth. Who sh… https://t.co/Xj3CU5t3nE\n",
      "RT @Dogecoinrich: @elonmusk @RickandMorty #Tesla and #Dogecoin look sexy together\n",
      "#Musk under fire again: CEO to testify over #Tesla acquisition\n",
      "\n",
      "https://t.co/EdOjkz7rAv\n",
      "RT @evbriefmedia: \"We’ve discovered that a driver who bought the Model 3 would be $26,563 out of pocket compared to $30,330 for the Camry\".…\n",
      "RT @Dogecoinrich: Lil X: Dad, should I sell my #Dogecoin?\n",
      "\n",
      "Elon: Are you kidding me son? That’s going to be the worlds future currency, and…\n",
      "Elon Musk leaving the New Castle County Court House in Wilmington Delaware Monday afternoon where he took to the wi… https://t.co/Eqg06giJbN\n",
      "RT @Teslaconomics: Let’s fucking go! 🔥 \n",
      "\n",
      "$TSLA #Tesla https://t.co/0AW2GKtSOF\n",
      "@elonmusk am I the only one that thinks #doge when I see a #Tesla ? #DogeFam https://t.co/fb1IZuSWhx\n",
      "RT @Dogecoinrich: @elonmusk @RickandMorty #Tesla and #Dogecoin look sexy together\n",
      "@elonmusk @RickandMorty #Tesla and #Dogecoin look sexy together\n",
      "RT @EveryElonReply: Elon Musk liked a tweet from TeslaStars Of Michelin Pilot Sport 4S ✨ #Tesla $TSLA https://t.co/KHzfpoViCU\n",
      "[Exclusive] Samsung SDI, LG Energy Solution complete development of 4680 cell samples, eye Tesla orders… https://t.co/hx1l7LZev2\n",
      "RT @WevolverApp: This is what Tesla Autopilot sees using neural networks that take 70,000 GPU hours to train and output 1,000 tensors (pred…\n",
      "#Austin Mayor Steve Adler on Tesla’s solar neighborhood plans: I hope #Tesla builds a lot of #housing for the numbe… https://t.co/u2pl63m1VX\n",
      "@elonmusk @CGDaveMac Why aren't we yet accepting #dogecoin for #Tesla ?!?!?\n",
      "@hazardvz @elonmusk Was going to buy a #Tesla, but lost your life savings and you rent, but now can't pay your rent… https://t.co/MFAed2rpAW\n",
      "@elonmusk Safety is the number one priority! #Tesla\n",
      "RT @Investingcom: 🚨 #Musk tells SolarCity trial that #Tesla would 'die' if he wasn't CEO! 👀\n",
      "\n",
      "Read NOW! 👉 https://t.co/vxSyoIQd6I https://t.…\n",
      "@dogeofficialceo @elonmusk This is awesome @elonmusk #Tesla\n",
      "📸 Add me on Snap @nkryptz \n",
      "\n",
      "#doge #dogearmy #dogecoin #NFT #NFTcollection #cryptoart #CryptoNews #altcoins… https://t.co/65gm0svf9i\n",
      "RT @EvdcT: @elonmusk @richardbranson @virgingalactic Charge Tesla and pay with EVDC\n",
      "\n",
      "EV Charging Currency\n",
      "EVDC v2 is available\n",
      "New partners…\n",
      "🚨 #Musk tells SolarCity trial that #Tesla would 'die' if he wasn't CEO! 👀\n",
      "\n",
      "Read NOW! 👉 https://t.co/JgtE5OmWrn https://t.co/dhnb4RvGJc\n",
      "RT @itzJuice3: WKHS is going to the moon🚀🚀🚀 Apes grab your horses by the balls🤠🐎 yeeehaww\n",
      "#WKHSto100 #wkhs #squeeze\n",
      "#apestogetherstrong\n",
      "#Ap…\n",
      "Other investments I have and will hold long term: #Microsoft #nvidia #tesla #futu #Microstrategy #sony to name a fe… https://t.co/CrkGGzFkHf\n",
      "@elonmusk Straight Facts. We have both ❤️ plus #doge &amp; #Tesla 😁\n",
      "Elon Musk replied to @CGDaveMac #FSD #Autonomy #Dogecoin #Tesla $TSLA https://t.co/GOXDN2OO3U\n",
      "RT @Investingcom: 🚨 #Musk tells SolarCity trial that #Tesla would 'die' if he wasn't CEO! 👀\n",
      "\n",
      "Read NOW! 👉 https://t.co/vxSyoIQd6I https://t.…\n",
      "I love still love my Model Y after a year and rather than more photos of it I thought I would share one of my Grand… https://t.co/S7mSwcyoeF\n",
      "RT @Investingcom: 🚨 #Musk tells SolarCity trial that #Tesla would 'die' if he wasn't CEO! 👀\n",
      "\n",
      "Read NOW! 👉 https://t.co/vxSyoIQd6I https://t.…\n",
      "RT @Investingcom: 🚨 #Musk tells SolarCity trial that #Tesla would 'die' if he wasn't CEO! 👀\n",
      "\n",
      "Read NOW! 👉 https://t.co/vxSyoIQd6I https://t.…\n",
      "oh shit #ElonMusk #Tesla #SolarCity https://t.co/bw8AmuitEp\n",
      "@elonmusk When will I get my Plaid??? Got rid of my 911 for it and can’t wait anymore!!! #plaid, #Tesla , #models\n",
      "RT @Dogecoinrich: Lil X: Dad, should I sell my #Dogecoin?\n",
      "\n",
      "Elon: Are you kidding me son? That’s going to be the worlds future currency, and…\n",
      "Other investments I have and will hold long term: #Microsoft #nvidia #tesla #futu #Microstrategy #sony to name a few\n",
      "RT @BiIndia: A couple who blame #Tesla's solar panels for roof leaks and a mold infestation are now locked in a legal battle about ending t…\n",
      "RT @EveryElonReply: Elon Musk liked a tweet from TeslaStars Of Michelin Pilot Sport 4S ✨ #Tesla $TSLA https://t.co/KHzfpoViCU\n",
      "Elon Musk liked a tweet from TeslaStars Of Michelin Pilot Sport 4S ✨ #Tesla $TSLA https://t.co/KHzfpoViCU\n"
     ]
    }
   ],
   "source": [
    "tweets = tw.Cursor(api.search,\n",
    "              q=search_words,\n",
    "              lang=\"en\",\n",
    "              since=date_since).items(50)\n",
    "\n",
    "# Iterate and print tweets\n",
    "for tweet in tweets:\n",
    "    print(tweet.text)\n"
   ]
  }
 ],
 "metadata": {
  "kernelspec": {
   "display_name": "PythonData",
   "language": "python",
   "name": "pythondata"
  },
  "language_info": {
   "codemirror_mode": {
    "name": "ipython",
    "version": 3
   },
   "file_extension": ".py",
   "mimetype": "text/x-python",
   "name": "python",
   "nbconvert_exporter": "python",
   "pygments_lexer": "ipython3",
   "version": "3.7.9"
  }
 },
 "nbformat": 4,
 "nbformat_minor": 4
}
